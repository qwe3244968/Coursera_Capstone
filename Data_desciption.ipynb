{
 "cells": [
  {
   "cell_type": "markdown",
   "metadata": {},
   "source": [
    "# Data_desciption"
   ]
  },
  {
   "attachments": {},
   "cell_type": "markdown",
   "metadata": {},
   "source": [
    "We need to get information about restaurants and their ratings. In order to gain that information we will use \"Foursquare\" locational information. Foursquare is a location data provider with information about all manner of Chinese restaurants venues in each region on Vancouver. Such information includes postal code, borough, Neighborhood, latitude, Longitude. As such, the foursquare location platform will be used as the sole data source since all the stated required information can be obtained through the API.\n",
    "\n",
    "\n",
    "The data retrieved from Foursquare contained information of venues within a specified distance of the longitude and latitude of the postcodes. The information obtained per venue as follows:\n",
    "\n",
    "1. postal code\n",
    "2. borough\n",
    "3. Neighborhood\n",
    "4. latitude\n",
    "5. Longitude\n",
    "\n",
    "According to the result, we can conclude that Vancouver has the highest number of restaurants in Greater Vancouver Area, then Richmond and Burnaby. From the bar graph, we can also see most of the Chinese restaurants are located in one of these three boroughs. In conclusion, when I meet my friends and want to find a Chinese restaurant, we should stay in either Burnaby, Richmond, or Vancouver."
   ]
  },
  {
   "cell_type": "code",
   "execution_count": null,
   "metadata": {
    "collapsed": true
   },
   "outputs": [],
   "source": []
  }
 ],
 "metadata": {
  "kernelspec": {
   "display_name": "Python 3",
   "language": "python",
   "name": "python3"
  },
  "language_info": {
   "codemirror_mode": {
    "name": "ipython",
    "version": 3
   },
   "file_extension": ".py",
   "mimetype": "text/x-python",
   "name": "python",
   "nbconvert_exporter": "python",
   "pygments_lexer": "ipython3",
   "version": "3.6.3"
  }
 },
 "nbformat": 4,
 "nbformat_minor": 2
}
